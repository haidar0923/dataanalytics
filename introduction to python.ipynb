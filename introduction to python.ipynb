{
  "nbformat": 4,
  "nbformat_minor": 0,
  "metadata": {
    "colab": {
      "provenance": []
    },
    "kernelspec": {
      "name": "python3",
      "display_name": "Python 3"
    },
    "language_info": {
      "name": "python"
    }
  },
  "cells": [
    {
      "cell_type": "code",
      "execution_count": null,
      "metadata": {
        "colab": {
          "base_uri": "https://localhost:8080/"
        },
        "id": "qnLMrwKEVKaJ",
        "outputId": "53abd413-ec21-4ec8-db6e-59735719c5de"
      },
      "outputs": [
        {
          "output_type": "stream",
          "name": "stdout",
          "text": [
            "Enter a number:67\n",
            "Positive number\n"
          ]
        }
      ],
      "source": [
        "#Write a Python program to check if a number is positive, negative or\n",
        "#zero.\n",
        "num=float(input(\"Enter a number:\"))\n",
        "if num>0:\n",
        "  print(\"Positive number\")\n",
        "elif num==0:\n",
        "  print(\"Zero\")\n",
        "else:\n",
        "  print(\"Negative number\")\n",
        "\n"
      ]
    },
    {
      "cell_type": "code",
      "source": [
        "# find factorial number\n",
        "num = int(input(\"Enter a number: \"))\n",
        "factorial = 1\n",
        "if num < 0:\n",
        "   print(\" Factorial does not exist for negative numbers\")\n",
        "elif num == 0:\n",
        "   print(\"The factorial of 0 is 1\")\n",
        "else:\n",
        "   for i in range(1,num + 1):\n",
        "       factorial = factorial*i\n",
        "   print(\"The factorial of\",num,\"is\",factorial)"
      ],
      "metadata": {
        "colab": {
          "base_uri": "https://localhost:8080/"
        },
        "id": "qcUSDkg42lrG",
        "outputId": "05f20df5-3d3c-4674-8b15-5378898b89c0"
      },
      "execution_count": null,
      "outputs": [
        {
          "output_type": "stream",
          "name": "stdout",
          "text": [
            "Enter a number: 45\n",
            "The factorial of 45 is 119622220865480194561963161495657715064383733760000000000\n"
          ]
        }
      ]
    },
    {
      "cell_type": "code",
      "source": [
        "#Write a Python program to get the Fibonacci series of given range.\n",
        "def fibonacci(n):\n",
        "\n",
        "    a, b = 0, 1\n",
        "    while a < n:\n",
        "        print(a, end=' ')\n",
        "        a, b = b, a + b\n",
        "    print()\n",
        "n = int(input(\"Enter the range for Fibonacci series: \"))\n",
        "fibonacci(n)"
      ],
      "metadata": {
        "colab": {
          "base_uri": "https://localhost:8080/"
        },
        "id": "5i9t7OIG20M8",
        "outputId": "179fdfaa-60c5-40b4-c173-807eee7a8dd8"
      },
      "execution_count": null,
      "outputs": [
        {
          "output_type": "stream",
          "name": "stdout",
          "text": [
            "Enter the range for Fibonacci series: 56\n",
            "0 1 1 2 3 5 8 13 21 34 55 \n"
          ]
        }
      ]
    },
    {
      "cell_type": "code",
      "source": [
        "#\n",
        "a = 5\n",
        "b = 10\n",
        "\n",
        "print(\"Before Swap: a =\", a, \"b =\", b)\n",
        "\n",
        "temp = a\n",
        "a = b\n",
        "b = temp\n",
        "\n",
        "print(\"After Swap (with temp variable): a =\", a, \"b =\", b)\n",
        "\n",
        "# Swap without using a temporary variable\n",
        "a = a + b\n",
        "b = a - b\n",
        "a = a - b\n",
        "\n",
        "print(\"After Swap (without temp variable): a =\", a, \"b =\", b)\n"
      ],
      "metadata": {
        "colab": {
          "base_uri": "https://localhost:8080/"
        },
        "id": "O5eceEQ75q5Y",
        "outputId": "24cceea7-9bcd-4d10-f3ad-dc18862a0f90"
      },
      "execution_count": null,
      "outputs": [
        {
          "output_type": "stream",
          "name": "stdout",
          "text": [
            "Before Swap: a = 5 b = 10\n",
            "After Swap (with temp variable): a = 10 b = 5\n",
            "After Swap (without temp variable): a = 5 b = 10\n"
          ]
        }
      ]
    },
    {
      "cell_type": "code",
      "source": [
        "#Write a Python program to find whether a given number is even\n",
        "#or odd, print out an appropriate message to the user.\n",
        "#check num even or odd\n",
        "num=int(input(\"enter a number:-\"))\n",
        "if(num%2==0):\n",
        "    print(\"Given number is even\")\n",
        "else:\n",
        "    print(\"Given number is odd\")"
      ],
      "metadata": {
        "colab": {
          "base_uri": "https://localhost:8080/"
        },
        "id": "abLdu-1i_xvb",
        "outputId": "5859190a-6205-4151-b6e6-da25d70d8037"
      },
      "execution_count": null,
      "outputs": [
        {
          "output_type": "stream",
          "name": "stdout",
          "text": [
            "enter a number:-56\n",
            "number is even\n"
          ]
        }
      ]
    },
    {
      "cell_type": "code",
      "source": [
        "\n",
        "letter = input(\"Enter a letter: \")\n",
        "\n",
        "\n",
        "if len(letter) == 1 and letter.isalpha():\n",
        "    if is_vowel(letter):\n",
        "        print(f\"{letter} is a vowel.\")\n",
        "    else:\n",
        "        print(f\"{letter} is not a vowel.\")\n",
        "else:\n",
        "    print(\"Please enter a single alphabet letter.\")\n"
      ],
      "metadata": {
        "colab": {
          "base_uri": "https://localhost:8080/"
        },
        "id": "Njm6uw2CBGNh",
        "outputId": "064c90d6-d9dc-4271-e59f-b0d263ed7b7f"
      },
      "execution_count": null,
      "outputs": [
        {
          "output_type": "stream",
          "name": "stdout",
          "text": [
            "Enter a letter: \"a\"\n",
            "Please enter a single alphabet letter.\n"
          ]
        }
      ]
    },
    {
      "cell_type": "code",
      "source": [
        "# Write a Python program to sum of three given integers. However, if\n",
        "#two values are equal sum will be zero.\n",
        "a = int(input(\"Enter first number: \"))\n",
        "b = int(input(\"Enter second number: \"))\n",
        "c = int(input(\"Enter third number: \"))\n",
        "\n",
        "if a == b or b == c or a == c:\n",
        "    sum = 0\n",
        "else:\n",
        "    sum = a + b + c\n",
        "\n",
        "print(\"Sum:\", sum)\n"
      ],
      "metadata": {
        "colab": {
          "base_uri": "https://localhost:8080/"
        },
        "id": "EVRgIQ_ADTwt",
        "outputId": "85c70733-884e-45d6-8e66-e50cc72f2296"
      },
      "execution_count": null,
      "outputs": [
        {
          "output_type": "stream",
          "name": "stdout",
          "text": [
            "Enter first number: 67\n",
            "Enter second number: 23\n",
            "Enter third number: 12\n",
            "Sum: 102\n"
          ]
        }
      ]
    },
    {
      "cell_type": "code",
      "source": [
        "#Write a Python program that will return true if the two given\n",
        "#integer values are equal or their sum or difference is 5.\n",
        "a = int(input(\"Enter first number: \"))\n",
        "b = int(input(\"Enter second number: \"))\n",
        "\n",
        "if a == b or (a + b == 5) or (abs(a - b) == 5):\n",
        "    print(\"True\")\n",
        "else:\n",
        "    print(\"False\")"
      ],
      "metadata": {
        "colab": {
          "base_uri": "https://localhost:8080/"
        },
        "id": "rcEgYh-8EDaF",
        "outputId": "25500da9-914b-4a6e-d8ee-efa87c37d86c"
      },
      "execution_count": null,
      "outputs": [
        {
          "output_type": "stream",
          "name": "stdout",
          "text": [
            "Enter first number: 2\n",
            "Enter second number: 3\n",
            "True\n"
          ]
        }
      ]
    },
    {
      "cell_type": "code",
      "source": [
        "#Write a python program to sum of the first n positive integers.\n",
        "def sum_of_n(n):\n",
        "    total = 0\n",
        "    for i in range(1, n + 1):\n",
        "        total += i\n",
        "    return total\n",
        "\n",
        "\n",
        "nump = int(input(\"Enter a positive integer: \"))\n",
        "if n > 0:\n",
        "    print(f\"Sum of the first {n} positive integers is: {sum_of_n(n)}\")\n",
        "else:\n",
        "    print(\"Please enter a positive integer.\")\n"
      ],
      "metadata": {
        "id": "vbGGD4XZEy08"
      },
      "execution_count": null,
      "outputs": []
    },
    {
      "cell_type": "code",
      "source": [
        "#Write a Python program to calculate the length of a string.\n",
        "\n",
        "nuum=input(\"enter a string:\")\n",
        "print(len(nuum))\n",
        "nuum.count(nuum)"
      ],
      "metadata": {
        "id": "uTfz9e-GiyQE"
      },
      "execution_count": null,
      "outputs": []
    },
    {
      "cell_type": "code",
      "source": [
        "\n",
        "x = input(\"Enter a string: \")\n",
        "\n",
        "\n",
        "freq = {}\n",
        "\n",
        "for char in x:\n",
        "    if char in freq:\n",
        "        freq[char] += 1\n",
        "    else:\n",
        "        freq[char] = 1\n",
        "\n",
        "print(\"Character frequency:\", freq)\n"
      ],
      "metadata": {
        "colab": {
          "base_uri": "https://localhost:8080/"
        },
        "id": "FJDLPLB8lZW_",
        "outputId": "0cc1291e-edcb-4a37-8df9-b78a1e161215"
      },
      "execution_count": null,
      "outputs": [
        {
          "output_type": "stream",
          "name": "stdout",
          "text": [
            "Enter a string: haidar\n",
            "Character frequency: {'h': 1, 'a': 2, 'i': 1, 'd': 1, 'r': 1}\n"
          ]
        }
      ]
    },
    {
      "cell_type": "code",
      "source": [
        "#Write a Python program to count occurrences of a substring in a string.\n",
        "m_string = input(\"Enter the main string: \")\n",
        "s_string = input(\"Enter the substring to count: \")\n",
        "\n",
        "count = 0\n",
        "for i in range(len(m_string) - len(s_string) + 1):\n",
        "    if m_string[i:i+len(s_string)] == s_string:\n",
        "        count += 1\n",
        "\n",
        "print(f\"The substring '{s_string}' appears {count} times in the main string.\")\n"
      ],
      "metadata": {
        "id": "A_PEbEPsoWR2",
        "colab": {
          "base_uri": "https://localhost:8080/"
        },
        "outputId": "9206d5f6-0fcc-49f5-a685-781bde8a8120"
      },
      "execution_count": 1,
      "outputs": [
        {
          "output_type": "stream",
          "name": "stdout",
          "text": [
            "Enter the main string: haidar\n",
            "Enter the substring to count: abbas\n",
            "The substring 'abbas' appears 0 times in the main string.\n"
          ]
        }
      ]
    },
    {
      "cell_type": "code",
      "source": [
        "# Write a Python program to get a single string from two given strings,\n",
        "#separated by a space and swap the first two characters of each string.\n",
        "x=input('enter a string:')\n",
        "y=input('enter a second string:')\n",
        "print(x,',',y)\n",
        "x_new=y[0:2]+x[2:]\n",
        "y_new=x[0:2]+y[2:]\n",
        "print(x_new,',',y_new)\n"
      ],
      "metadata": {
        "colab": {
          "base_uri": "https://localhost:8080/"
        },
        "id": "egvov0uJyqf0",
        "outputId": "a81ebb25-6e5e-4c07-b04d-d29803fb9eb0"
      },
      "execution_count": null,
      "outputs": [
        {
          "output_type": "stream",
          "name": "stdout",
          "text": [
            "enter a stringhaidar\n",
            "enter a second stringabbas\n",
            "haidar , abbas\n",
            "abidar , habas\n"
          ]
        }
      ]
    },
    {
      "cell_type": "code",
      "source": [
        "'''Write a Python program to add 'in' at the end of a given string (length\n",
        "should be at least 3). If the given string already ends with 'ing' then\n",
        "add 'ly' instead if the string length of the given string is less than 3,\n",
        "leave it unchanged. '''\n",
        "text=input('enter a string')\n",
        "if len(text)<3:\n",
        "  print(text)\n",
        "elif text[-3:-1]==\"ing\":\n",
        "  print(text+\"ly\")\n",
        "else:\n",
        "  print(text+\"ing\")"
      ],
      "metadata": {
        "colab": {
          "base_uri": "https://localhost:8080/"
        },
        "id": "3FbSRLBt0HCy",
        "outputId": "dd885c0d-faf8-40d2-a31b-7fcdf44e6de8"
      },
      "execution_count": null,
      "outputs": [
        {
          "output_type": "stream",
          "name": "stdout",
          "text": [
            "enter a stringbadly\n",
            "badlying\n"
          ]
        }
      ]
    },
    {
      "cell_type": "code",
      "source": [
        "#Write a Python function to reverses a string if its length is a multiple\n",
        "#of 4.\n",
        "text = input(\"Enter a string: \")\n",
        "\n",
        "if len(text) % 4 == 0:\n",
        "    text = text[::-1]\n",
        "\n",
        "print(\"Final string is:\", text)"
      ],
      "metadata": {
        "colab": {
          "base_uri": "https://localhost:8080/"
        },
        "id": "tRdoP-aE2JFS",
        "outputId": "b97df2c2-3abe-40ef-e52f-e19095947eb3"
      },
      "execution_count": 3,
      "outputs": [
        {
          "output_type": "stream",
          "name": "stdout",
          "text": [
            "Enter a string: haidar\n",
            "Final string is: haidar\n"
          ]
        }
      ]
    },
    {
      "cell_type": "code",
      "source": [
        "#Write a Python function to get the largest number, smallest num\n",
        "#and sum of all from a list.\n",
        "def sum_list(temp_list):\n",
        "    sum = 0\n",
        "    for item in temp_list:\n",
        "        sum += item\n",
        "    return sum\n",
        "\n",
        "\n",
        "size = int(input(\"Enter List Length : \"))\n",
        "my_list = []\n",
        "for _ in range(size):\n",
        "    temp = int(input(\"Enter List Item : \"))\n",
        "    my_list.append(temp)\n",
        "\n",
        "print(\"Sum of All Numbers in List is : \", sum_list(my_list))\n"
      ],
      "metadata": {
        "colab": {
          "base_uri": "https://localhost:8080/"
        },
        "id": "Y_58ksZg7qc7",
        "outputId": "c890a083-b623-40eb-e162-a3ed00909233"
      },
      "execution_count": null,
      "outputs": [
        {
          "output_type": "stream",
          "name": "stdout",
          "text": [
            "Enter List Length : 3\n",
            "Enter List Item : 5\n",
            "Enter List Item : 2\n",
            "Enter List Item : 1\n",
            "Sum of All Numbers in List is :  8\n"
          ]
        }
      ]
    },
    {
      "cell_type": "code",
      "source": [
        "'''Write a Python program to count the number of strings where the string\n",
        "length is 2 or more and the first and last character are same from a given list\n",
        "of strings. '''\n",
        "\n",
        "l=0\n",
        "list1=['aba','121','abc']\n",
        "for x in list1:\n",
        "  if len(x)>1 and x[0]==x[-1]:\n",
        "    print('the given word are',x)\n",
        "  l=l+1\n",
        "print('no of words you want',l)"
      ],
      "metadata": {
        "id": "w31GqgGF-hNR",
        "colab": {
          "base_uri": "https://localhost:8080/"
        },
        "outputId": "bddeaccf-fdf6-4577-dd41-d416565898a9"
      },
      "execution_count": null,
      "outputs": [
        {
          "output_type": "stream",
          "name": "stdout",
          "text": [
            "the given word are aba\n",
            "the given word are 121\n",
            "no of words you want 3\n"
          ]
        }
      ]
    },
    {
      "cell_type": "code",
      "source": [
        "#Write a Python program to remove duplicates from a list.\n",
        "#Write a Python program to remove duplicates from a list.\n",
        "# Initialize an empty list\n",
        "l = []\n",
        "n = int(input(\"Enter the number of elements: \"))\n",
        "\n",
        "for i in range(n):\n",
        "    ele = input(\"Enter the element: \")\n",
        "    l.append(ele)\n",
        "print(\"My list:\", l)\n",
        "non_duplicate = set(l)\n",
        "print(\"Unique elements:\", non_duplicate)\n",
        "\n",
        "\n",
        "\n",
        "\n",
        "\n"
      ],
      "metadata": {
        "id": "L_0MCf2n-SzJ",
        "colab": {
          "base_uri": "https://localhost:8080/"
        },
        "outputId": "5cb41789-4f83-46ad-ce1c-f582053bfc8a"
      },
      "execution_count": null,
      "outputs": [
        {
          "output_type": "stream",
          "name": "stdout",
          "text": [
            "Enter the number of elements: 5\n",
            "Enter the element: 234\n",
            "Enter the element: 34\n",
            "Enter the element: 234\n",
            "Enter the element: 23\n",
            "Enter the element: 12\n",
            "My list: ['234', '34', '234', '23', '12']\n",
            "Unique elements: {'12', '23', '34', '234'}\n"
          ]
        }
      ]
    },
    {
      "cell_type": "code",
      "source": [
        "#Write a Python program to check a list is empty or not.\n",
        "l=[12,45]\n",
        "if not l:\n",
        "  print('list is empty')\n",
        "else:\n",
        "  print('list is filled')\n",
        "\n",
        "\n",
        "\n",
        "\n",
        "\n",
        "\n",
        "\n",
        "\n",
        "\n",
        "\n",
        "\n",
        "\n",
        "\n",
        "\n",
        "\n"
      ],
      "metadata": {
        "colab": {
          "base_uri": "https://localhost:8080/"
        },
        "id": "BDo0ir9Fij5E",
        "outputId": "c946a4a0-2ac4-4ede-f973-8fcbcd61738f"
      },
      "execution_count": null,
      "outputs": [
        {
          "output_type": "stream",
          "name": "stdout",
          "text": [
            "list is filled\n"
          ]
        }
      ]
    },
    {
      "cell_type": "code",
      "source": [
        "#Write a Python function that takes two lists and returns true if they\n",
        "#have at least one common member.\n",
        "def has_common_member(list1, list2):\n",
        "    return bool(set(list1) & set(list2))\n",
        "list1 = [1, 2, 3, 4, 5]\n",
        "list2 = [5, 6, 7, 8]\n",
        "print(has_common_member(list1, list2))\n",
        "\n"
      ],
      "metadata": {
        "colab": {
          "base_uri": "https://localhost:8080/"
        },
        "id": "-vixmawpjgoq",
        "outputId": "1ad9f637-afb8-43c9-95e2-04fde565b559"
      },
      "execution_count": null,
      "outputs": [
        {
          "output_type": "stream",
          "name": "stdout",
          "text": [
            "True\n"
          ]
        }
      ]
    },
    {
      "cell_type": "code",
      "source": [
        "'''Write a Python program to generate and print a list of first and last 5\n",
        "elements where the values are square of numbers between 1 and 30. '''\n",
        "squares = [x**2 for x in range(1, 30)]\n",
        "\n",
        "first_five = squares[:5]\n",
        "last_five = squares[-5:]\n",
        "\n",
        "print(\"First 5 elements:\", first_five)\n",
        "print(\"Last 5 elements:\", last_five)"
      ],
      "metadata": {
        "colab": {
          "base_uri": "https://localhost:8080/"
        },
        "id": "yUjMtUufl-pI",
        "outputId": "caaed954-cb90-43a2-f8c8-ce43a362ee17"
      },
      "execution_count": null,
      "outputs": [
        {
          "output_type": "stream",
          "name": "stdout",
          "text": [
            "First 5 elements: [1, 4, 9, 16, 25]\n",
            "Last 5 elements: [625, 676, 729, 784, 841]\n"
          ]
        }
      ]
    },
    {
      "cell_type": "code",
      "source": [
        "#Write a Python function that takes a list and returns a new list with\n",
        "#unique elements of the first list.\n",
        "def unique_elements(lst):\n",
        "    return list(set(lst))\n",
        "\n",
        "# Example usage\n",
        "print(unique_elements([1, 2, 3, 1, 2, 4, 5]))"
      ],
      "metadata": {
        "colab": {
          "base_uri": "https://localhost:8080/"
        },
        "id": "MKyCIavnmfpb",
        "outputId": "e100a141-de5b-4105-ea93-18aa35096fdd"
      },
      "execution_count": null,
      "outputs": [
        {
          "output_type": "stream",
          "name": "stdout",
          "text": [
            "[1, 2, 3, 4, 5]\n"
          ]
        }
      ]
    },
    {
      "cell_type": "code",
      "source": [
        "#Write a Python program to convert a list of characters into a string.\n",
        "#Write a Python program to convert a list of characters into a string.\n",
        "l=[]\n",
        "for a in range(1,4):\n",
        "  n=input(\"enter a value\"+str(a)+\":-\")\n",
        "  l.append(n)\n",
        "  print(l)"
      ],
      "metadata": {
        "colab": {
          "base_uri": "https://localhost:8080/"
        },
        "id": "MQK0nSVHnD_Y",
        "outputId": "3a0b7585-8eeb-451c-90e6-26beddd04ba3"
      },
      "execution_count": null,
      "outputs": [
        {
          "output_type": "stream",
          "name": "stdout",
          "text": [
            "enter a value1:-23\n",
            "['23']\n",
            "enter a value2:-24\n",
            "['23', '24']\n",
            "enter a value3:-67\n",
            "['23', '24', '67']\n"
          ]
        }
      ]
    },
    {
      "cell_type": "code",
      "source": [
        "#Write a Python program to select an item randomly from a list.\n",
        "\n",
        "import random\n",
        "\n",
        "\n",
        "items = ['apple', 'banana', 'cherry', 'tomato', 'grape']\n",
        "random_item = random.choice(items)\n",
        "print(\"Randomly selected item:\", random_item)\n"
      ],
      "metadata": {
        "id": "IpAZ9ZN3rNTH",
        "colab": {
          "base_uri": "https://localhost:8080/"
        },
        "outputId": "cea5e97f-44e8-4f26-9bed-f87b06df9d88"
      },
      "execution_count": null,
      "outputs": [
        {
          "output_type": "stream",
          "name": "stdout",
          "text": [
            "Randomly selected item: date\n"
          ]
        }
      ]
    },
    {
      "cell_type": "code",
      "source": [
        "#Write a Python program to find the second smallest number in a list.\n",
        "numbers = [4, 1, 7, 1, 2, 9, 2]\n",
        "\n",
        "if len(numbers) < 2:\n",
        "    print(\"List must contain at least two distinct numbers.\")\n",
        "else:\n",
        "    unique_numbers = list(set(numbers))\n",
        "    if len(unique_numbers) < 2:\n",
        "        print(\"No second smallest number, all elements are the same.\")\n",
        "    else:\n",
        "        unique_numbers.sort()\n",
        "        print(\"Second smallest number:\", unique_numbers[1])\n"
      ],
      "metadata": {
        "id": "cMZjM6m70qE7",
        "colab": {
          "base_uri": "https://localhost:8080/"
        },
        "outputId": "a80cd982-dff2-4629-8418-5091345220ec"
      },
      "execution_count": null,
      "outputs": [
        {
          "output_type": "stream",
          "name": "stdout",
          "text": [
            "Second smallest number: 2\n"
          ]
        }
      ]
    },
    {
      "cell_type": "code",
      "source": [
        "#Write a Python program to get unique values from a list\n",
        "my_list=[1,2,3,4,2,6,8,9,10,3,\"apple\"]\n",
        "print(set(my_list))"
      ],
      "metadata": {
        "colab": {
          "base_uri": "https://localhost:8080/"
        },
        "id": "IHfH2sHbTU5X",
        "outputId": "b7b95952-e09c-48fd-d58c-35f257c750c2"
      },
      "execution_count": null,
      "outputs": [
        {
          "output_type": "stream",
          "name": "stdout",
          "text": [
            "{1, 2, 3, 4, 6, 8, 9, 10, 'apple'}\n"
          ]
        }
      ]
    },
    {
      "cell_type": "code",
      "source": [
        "#Write a Python program to check whether a list contains a sub list\n",
        "a= [7, 11, 23, 34, 56, 89, 1]\n",
        "b = [23, 34]\n",
        "is_sublist = False\n",
        "\n",
        "for i in range(len(a) - len(b) + 1):\n",
        "    if a[i] == b[0]:\n",
        "        n = 1\n",
        "        while n < len(b) and a[i + n] == b[n]:\n",
        "            n += 1\n",
        "        if n == len(b):\n",
        "            is_sublist = True\n",
        "            break\n",
        "\n",
        "print(\"Is sublist:\", is_sublist)"
      ],
      "metadata": {
        "colab": {
          "base_uri": "https://localhost:8080/"
        },
        "id": "9naLnQqlVdMB",
        "outputId": "bf87b510-b7d9-4b28-8456-0400e104f01b"
      },
      "execution_count": null,
      "outputs": [
        {
          "output_type": "stream",
          "name": "stdout",
          "text": [
            "Is sublist: True\n"
          ]
        }
      ]
    },
    {
      "cell_type": "code",
      "source": [
        "#)Write a Python program to split a list into different variables.\n",
        "a = [1, 2, 3, 4, 5]\n",
        "\n",
        "var1, var2, var3, var4, var5 = a\n",
        "\n",
        "print(\"Variable 1:\", var1)\n",
        "print(\"Variable 2:\", var2)\n",
        "print(\"Variable 3:\", var3)\n",
        "print(\"Variable 4:\", var4)\n",
        "print(\"Variable 5:\", var5)\n"
      ],
      "metadata": {
        "colab": {
          "base_uri": "https://localhost:8080/"
        },
        "id": "voKlQMsIYZPg",
        "outputId": "1373c208-6bab-478e-b5bc-2bf95f1ccbc7"
      },
      "execution_count": null,
      "outputs": [
        {
          "output_type": "stream",
          "name": "stdout",
          "text": [
            "Variable 1: 1\n",
            "Variable 2: 2\n",
            "Variable 3: 3\n",
            "Variable 4: 4\n",
            "Variable 5: 5\n"
          ]
        }
      ]
    },
    {
      "cell_type": "code",
      "source": [
        "#Write a Python program to create a tuple with different data types.\n",
        "diff_tuple=(42, 3.14, \"hello\", True, [1, 2, 3])\n",
        "print(\"Tuple with different data types:\", diff_tuple)\n"
      ],
      "metadata": {
        "colab": {
          "base_uri": "https://localhost:8080/"
        },
        "id": "nx4c5HhEYzsd",
        "outputId": "5a687dab-d733-4b59-ffc8-0bc0718a0f33"
      },
      "execution_count": null,
      "outputs": [
        {
          "output_type": "stream",
          "name": "stdout",
          "text": [
            "Tuple with different data types: (42, 3.14, 'hello', True, [1, 2, 3])\n"
          ]
        }
      ]
    },
    {
      "cell_type": "code",
      "source": [
        "#Write a Python program to unzip a list of tuples into individual lists.\n",
        "list_of_tuples = [(1, 'a'), (2, 'b'), (3, 'c')]\n",
        "\n",
        "list1, list2 = zip(*list_of_tuples)\n",
        "\n",
        "print(\"List 1:\", list(list1))\n",
        "print(\"List 2:\", list(list2))"
      ],
      "metadata": {
        "colab": {
          "base_uri": "https://localhost:8080/"
        },
        "id": "jADHBYqnZR6Y",
        "outputId": "9de18bb2-630c-45f4-f0f0-7474f4307308"
      },
      "execution_count": null,
      "outputs": [
        {
          "output_type": "stream",
          "name": "stdout",
          "text": [
            "List 1: [1, 2, 3]\n",
            "List 2: ['a', 'b', 'c']\n"
          ]
        }
      ]
    },
    {
      "cell_type": "code",
      "source": [
        "#Write a Python program to convert a list of tuples into a dictionary.\n",
        "l1 = [(1, 'a'), (2, 'b'), (3, 'c')]\n",
        "\n",
        "dictionary = dict(l1)\n",
        "\n",
        "print(\"Converted dictionary:\", dictionary)"
      ],
      "metadata": {
        "colab": {
          "base_uri": "https://localhost:8080/"
        },
        "id": "Vws5-rLrZqQ4",
        "outputId": "64fc9cba-3335-494d-fdcd-d666c6b4cd90"
      },
      "execution_count": null,
      "outputs": [
        {
          "output_type": "stream",
          "name": "stdout",
          "text": [
            "Converted dictionary: {1: 'a', 2: 'b', 3: 'c'}\n"
          ]
        }
      ]
    },
    {
      "cell_type": "code",
      "source": [
        "#How will you create a dictionary using tuples in python\n",
        "tp = [(1, 'apple'), (2, 'banana'), (3, 'cherry')]\n",
        "\n",
        "dictionary = dict(tp)\n",
        "\n",
        "print(\"Created dictionary:\", dictionary)\n"
      ],
      "metadata": {
        "colab": {
          "base_uri": "https://localhost:8080/"
        },
        "id": "AJ8nG9kAaLfD",
        "outputId": "efc603d6-e673-432d-f973-d940d9202157"
      },
      "execution_count": null,
      "outputs": [
        {
          "output_type": "stream",
          "name": "stdout",
          "text": [
            "Created dictionary: {1: 'apple', 2: 'banana', 3: 'cherry'}\n"
          ]
        }
      ]
    },
    {
      "cell_type": "code",
      "source": [
        "#Write a Python script to sort (ascending and descending) a\n",
        "#dictionary by value.\n",
        "dictionary = {1: 'apple', 2: 'banana', 3: 'cherry'}\n",
        "\n",
        "def get_value(item):\n",
        "    return item[1]\n",
        "\n",
        "sorted_asc = dict(sorted(dictionary.items(), key=get_value))\n",
        "sorted_desc = dict(sorted(dictionary.items(), key=get_value, reverse=True))\n",
        "\n",
        "print(\"Ascending:\", sorted_asc)\n",
        "print(\"Descending:\", sorted_desc)"
      ],
      "metadata": {
        "colab": {
          "base_uri": "https://localhost:8080/"
        },
        "id": "La8bNVB2bHMS",
        "outputId": "fd83f68c-ddaf-452a-b0a6-b2eb1cc77e89"
      },
      "execution_count": null,
      "outputs": [
        {
          "output_type": "stream",
          "name": "stdout",
          "text": [
            "Ascending: {1: 'apple', 2: 'banana', 3: 'cherry'}\n",
            "Descending: {3: 'cherry', 2: 'banana', 1: 'apple'}\n"
          ]
        }
      ]
    },
    {
      "cell_type": "code",
      "source": [
        "#Write a Python script to concatenate following dictionaries to create\n",
        "#a new one\n",
        "dict1 = {1: 'apple', 2: 'banana'}\n",
        "dict2 = {3: 'cherry', 4: 'date'}\n",
        "dict3 = {5: 'elderberry', 6: 'fig'}\n",
        "\n",
        "co_dict = {**dict1, **dict2, **dict3}\n",
        "\n",
        "print(\"Concatenated Dictionary:\", co_dict)"
      ],
      "metadata": {
        "colab": {
          "base_uri": "https://localhost:8080/"
        },
        "id": "myqTppFsb8G5",
        "outputId": "39474453-d552-41ae-ee55-c2cd77a1233d"
      },
      "execution_count": null,
      "outputs": [
        {
          "output_type": "stream",
          "name": "stdout",
          "text": [
            "Concatenated Dictionary: {1: 'apple', 2: 'banana', 3: 'cherry', 4: 'date', 5: 'elderberry', 6: 'fig'}\n"
          ]
        }
      ]
    },
    {
      "cell_type": "code",
      "source": [
        "#Write a Python script to check if a given key already exists in a\n",
        "#dictionary.\n",
        "\n",
        "dict = {1: 'apple', 2: 'banana', 3: 'cherry'}\n",
        "\n",
        "check = 2\n",
        "\n",
        "if check in dict:\n",
        "    print(\"Key exists in the dictionary.\")\n",
        "else:\n",
        "    print(\"Key does not exist in the dictionary.\")"
      ],
      "metadata": {
        "colab": {
          "base_uri": "https://localhost:8080/"
        },
        "id": "I5PyiUHKcKOk",
        "outputId": "f074c65d-5dba-4a36-d503-7298cc3b740c"
      },
      "execution_count": null,
      "outputs": [
        {
          "output_type": "stream",
          "name": "stdout",
          "text": [
            "Key exists in the dictionary.\n"
          ]
        }
      ]
    },
    {
      "cell_type": "code",
      "source": [
        "#Write a Python script to print a dictionary where the keys are\n",
        "#numbers between 1 and 15.\n",
        "ab = {x: x**2 for x in range(1, 16)}\n",
        "\n",
        "print(\"Dictionary 1 to 15:\", ab)\n"
      ],
      "metadata": {
        "colab": {
          "base_uri": "https://localhost:8080/"
        },
        "id": "ZocgLXircyeK",
        "outputId": "7e7cafbf-5cbc-4f5f-f9f5-4e98fd2f8b20"
      },
      "execution_count": null,
      "outputs": [
        {
          "output_type": "stream",
          "name": "stdout",
          "text": [
            "Dictionary with keys from 1 to 15: {1: 1, 2: 4, 3: 9, 4: 16, 5: 25, 6: 36, 7: 49, 8: 64, 9: 81, 10: 100, 11: 121, 12: 144, 13: 169, 14: 196, 15: 225}\n"
          ]
        }
      ]
    },
    {
      "cell_type": "code",
      "source": [
        "#Write a Python program to check multiple keys exists in a dictionary\n",
        "x = {1: 'apple', 2: 'banana', 3: 'cherry', 4: 'date'}\n",
        "\n",
        "y = [8, 9]\n",
        "\n",
        "if all(key in x for key in y):\n",
        "    print(\"yrs exist.\")\n",
        "else:\n",
        "    print(\"Not  exist\")\n"
      ],
      "metadata": {
        "colab": {
          "base_uri": "https://localhost:8080/"
        },
        "id": "0L4blaf4dLg6",
        "outputId": "1d33e10b-05ef-40d6-d1d7-389a51de341c"
      },
      "execution_count": null,
      "outputs": [
        {
          "output_type": "stream",
          "name": "stdout",
          "text": [
            "Not  exist\n"
          ]
        }
      ]
    },
    {
      "cell_type": "code",
      "source": [
        "#Write a Python script to merge two Python dictionaries\n",
        "\n",
        "dict1 = {1: 'haidar', 2: 'abbas'}\n",
        "dict2 = {3: 'jafar', 4: 'ali'}\n",
        "\n",
        "\n",
        "comb = {**dict1, **dict2}\n",
        "\n",
        "print(\"Merged Dictionary:\", comb)\n"
      ],
      "metadata": {
        "colab": {
          "base_uri": "https://localhost:8080/"
        },
        "id": "cGpDCvM2ewGn",
        "outputId": "e14f82d3-5eeb-4640-bd82-f06181bcc52b"
      },
      "execution_count": null,
      "outputs": [
        {
          "output_type": "stream",
          "name": "stdout",
          "text": [
            "Merged Dictionary: {1: 'haidar', 2: 'abbas', 3: 'jafar', 4: 'ali'}\n"
          ]
        }
      ]
    },
    {
      "cell_type": "code",
      "source": [
        "#Write a Python program to map two lists into a dictionary\n",
        "keys = ['a', 'b', 'c', 'd']\n",
        "values = [400, 400, 300, 400]\n",
        "\n",
        "mapped_dicty = dict(zip(keys, values))\n",
        "\n",
        "print(\"Mapped Dictionary:\", mapped_dicty)\n"
      ],
      "metadata": {
        "colab": {
          "base_uri": "https://localhost:8080/"
        },
        "id": "WIVnZqTWfMeU",
        "outputId": "379fb1a1-0d9d-474e-a6ac-0723571fc0e1"
      },
      "execution_count": 4,
      "outputs": [
        {
          "output_type": "stream",
          "name": "stdout",
          "text": [
            "Mapped Dictionary: {'a': 400, 'b': 400, 'c': 300, 'd': 400}\n"
          ]
        }
      ]
    },
    {
      "cell_type": "code",
      "source": [
        "#Write a Python program to find the highest 3 values in a dictionary\n",
        "num = {'a': 400, 'b': 600, 'c': 300, 'd': 400}\n",
        "\n",
        "highest_values = sorted(num.values(), reverse=True)[:3]\n",
        "\n",
        "print(\"Highest 3 values:\", highest_values)\n"
      ],
      "metadata": {
        "colab": {
          "base_uri": "https://localhost:8080/"
        },
        "id": "kyqdvTRqfMRD",
        "outputId": "58c8150a-9575-45b4-be85-9e857c786110"
      },
      "execution_count": null,
      "outputs": [
        {
          "output_type": "stream",
          "name": "stdout",
          "text": [
            "Highest 3 values: [600, 400, 400]\n"
          ]
        }
      ]
    },
    {
      "cell_type": "code",
      "source": [
        "''')Write a Python program to combine values in python list of dictionaries.\n",
        "Sample data: [{'item': 'item1', 'amount': 400}, {'item': 'item2', 'amount':\n",
        "300}, o {'item': 'item1', 'amount': 750}]\n",
        "'''\n",
        "data = [{'item': 'item1', 'amount': 400}, {'item': 'item2', 'amount': 300}, {'item': 'item1', 'amount': 750}]\n",
        "\n",
        "result = {}\n",
        "for entry in data:\n",
        "    key = entry['item']\n",
        "    result[key] = result.get(key, 0) + entry['amount']\n",
        "\n",
        "print(\"Combined values:\", result)\n",
        "\n"
      ],
      "metadata": {
        "colab": {
          "base_uri": "https://localhost:8080/"
        },
        "id": "SbUhaW1thItW",
        "outputId": "560f1b29-daee-49a0-8515-25e65c9c846f"
      },
      "execution_count": null,
      "outputs": [
        {
          "output_type": "stream",
          "name": "stdout",
          "text": [
            "Combined values: {'item1': 1150, 'item2': 300}\n"
          ]
        }
      ]
    },
    {
      "cell_type": "code",
      "source": [
        "#)Write a Python program to create a dictionary from a string.\n",
        "#Note: Track the count of the letters from the string.\n",
        "string = \"pythonprogramming\"\n",
        "\n",
        "l_count = {}\n",
        "for letter in string:\n",
        "    l_count[letter] = l_count.get(letter, 0) + 1\n",
        "\n",
        "print(\"Letter count:\", l_count)"
      ],
      "metadata": {
        "colab": {
          "base_uri": "https://localhost:8080/"
        },
        "id": "a7ubbsSnh1-e",
        "outputId": "a4db172b-da66-49f7-e2c6-78ec33fc7ee5"
      },
      "execution_count": null,
      "outputs": [
        {
          "output_type": "stream",
          "name": "stdout",
          "text": [
            "Letter count: {'p': 2, 'y': 1, 't': 1, 'h': 1, 'o': 2, 'n': 2, 'r': 2, 'g': 2, 'a': 1, 'm': 2, 'i': 1}\n"
          ]
        }
      ]
    },
    {
      "cell_type": "code",
      "source": [
        "#Write a Python function to calculate the factorial of a number (a\n",
        "#nonnegative integer)\n",
        "num = 5\n",
        "\n",
        "if num < 0:\n",
        "    result = \"Factorial is not negative numbers.\"\n",
        "elif num == 0 or num == 1:\n",
        "    result = 1\n",
        "else:\n",
        "    result = 1\n",
        "    for i in range(2, num + 1):\n",
        "        result *= i\n",
        "\n",
        "print(\"Factorial of\", num, \"is\", result)"
      ],
      "metadata": {
        "colab": {
          "base_uri": "https://localhost:8080/"
        },
        "id": "VdLRTYybiNCS",
        "outputId": "663dc8db-d843-4dae-fda8-abc02ceca20f"
      },
      "execution_count": null,
      "outputs": [
        {
          "output_type": "stream",
          "name": "stdout",
          "text": [
            "Factorial of 5 is 120\n"
          ]
        }
      ]
    },
    {
      "cell_type": "code",
      "source": [
        "#Write a Python function to check whether a number is in a given range\n",
        "num = 7\n",
        "start = 5\n",
        "end = 10\n",
        "\n",
        "if start <= num <= end:\n",
        "    print(num, \"is in the range\", start, \"to\", end)\n",
        "else:\n",
        "    print(num, \"is not in the range\", start, \"to\", end)\n"
      ],
      "metadata": {
        "colab": {
          "base_uri": "https://localhost:8080/"
        },
        "id": "TCpgBmkHiuP7",
        "outputId": "6644490a-ea0d-48b3-a282-bce504fffac7"
      },
      "execution_count": null,
      "outputs": [
        {
          "output_type": "stream",
          "name": "stdout",
          "text": [
            "7 is in the range 5 to 10\n"
          ]
        }
      ]
    },
    {
      "cell_type": "code",
      "source": [
        "#Write a Python function to check whether a number is perfect or not.\n",
        "num = 28\n",
        "\n",
        "sum_of_divisors = sum(i for i in range(1, num) if num % i == 0)\n",
        "\n",
        "if sum_of_divisors == num:\n",
        "    print(num, \"is a perfect number\")\n",
        "else:\n",
        "    print(num, \"is not a perfect number\")\n"
      ],
      "metadata": {
        "colab": {
          "base_uri": "https://localhost:8080/"
        },
        "id": "WuvYtJ_ulxPa",
        "outputId": "3f3df6b4-1e70-4726-f658-162203be0ee6"
      },
      "execution_count": null,
      "outputs": [
        {
          "output_type": "stream",
          "name": "stdout",
          "text": [
            "28 is a perfect number\n"
          ]
        }
      ]
    },
    {
      "cell_type": "code",
      "source": [
        "#Write a Python function that checks whether a passed string is\n",
        "#palindrome or not\n",
        "string = \"madam\"\n",
        "\n",
        "if string == string[::-1]:\n",
        "    print(string, \"is a palindrome\")\n",
        "else:\n",
        "    print(string, \"is not a palindrome\")"
      ],
      "metadata": {
        "colab": {
          "base_uri": "https://localhost:8080/"
        },
        "id": "uQVTigSwl1tA",
        "outputId": "211ed07b-8c57-4524-e98c-aa187466ed87"
      },
      "execution_count": null,
      "outputs": [
        {
          "output_type": "stream",
          "name": "stdout",
          "text": [
            "madam is a palindrome\n"
          ]
        }
      ]
    },
    {
      "cell_type": "code",
      "source": [
        "#Write a Python program to read an entire text\n",
        "f=open(\"abc.txt\", \"r\")\n",
        "    # Read all lines from the file into a list\n",
        "list = r.readlines()\n",
        "\n",
        "# Iterate through each line and print it without extra newlines\n",
        "for i in list:\n",
        "        print(i.strip())"
      ],
      "metadata": {
        "id": "nbsmxUOEmPGs",
        "colab": {
          "base_uri": "https://localhost:8080/",
          "height": 211
        },
        "outputId": "9bbd45cc-b695-49ce-c264-a0cbe68f624b"
      },
      "execution_count": 5,
      "outputs": [
        {
          "output_type": "error",
          "ename": "FileNotFoundError",
          "evalue": "[Errno 2] No such file or directory: 'abc.txt'",
          "traceback": [
            "\u001b[0;31m---------------------------------------------------------------------------\u001b[0m",
            "\u001b[0;31mFileNotFoundError\u001b[0m                         Traceback (most recent call last)",
            "\u001b[0;32m<ipython-input-5-a6ff4d623e0f>\u001b[0m in \u001b[0;36m<cell line: 0>\u001b[0;34m()\u001b[0m\n\u001b[1;32m      1\u001b[0m \u001b[0;31m#Write a Python program to read an entire text\u001b[0m\u001b[0;34m\u001b[0m\u001b[0;34m\u001b[0m\u001b[0m\n\u001b[0;32m----> 2\u001b[0;31m \u001b[0mf\u001b[0m\u001b[0;34m=\u001b[0m\u001b[0mopen\u001b[0m\u001b[0;34m(\u001b[0m\u001b[0;34m\"abc.txt\"\u001b[0m\u001b[0;34m,\u001b[0m \u001b[0;34m\"r\"\u001b[0m\u001b[0;34m)\u001b[0m\u001b[0;34m\u001b[0m\u001b[0;34m\u001b[0m\u001b[0m\n\u001b[0m\u001b[1;32m      3\u001b[0m     \u001b[0;31m# Read all lines from the file into a list\u001b[0m\u001b[0;34m\u001b[0m\u001b[0;34m\u001b[0m\u001b[0m\n\u001b[1;32m      4\u001b[0m \u001b[0mlist\u001b[0m \u001b[0;34m=\u001b[0m \u001b[0mr\u001b[0m\u001b[0;34m.\u001b[0m\u001b[0mreadlines\u001b[0m\u001b[0;34m(\u001b[0m\u001b[0;34m)\u001b[0m\u001b[0;34m\u001b[0m\u001b[0;34m\u001b[0m\u001b[0m\n\u001b[1;32m      5\u001b[0m \u001b[0;34m\u001b[0m\u001b[0m\n",
            "\u001b[0;31mFileNotFoundError\u001b[0m: [Errno 2] No such file or directory: 'abc.txt'"
          ]
        }
      ]
    },
    {
      "cell_type": "code",
      "source": [
        "#Write a Python program to append text to a file and display the text.\n",
        "filename = \"abc.txt\"\n",
        "with open(\"abc.txt\", \"a\") as file:\n",
        "    tp = input(\"Enter the text to append: \")\n",
        "    file.write(tp + \"\\n\")\n",
        "with open(\"abc.txt\", \"r\") as file:\n",
        "    print(\"\\nUpdated File Content:\")\n",
        "    print(file.read())\n"
      ],
      "metadata": {
        "colab": {
          "base_uri": "https://localhost:8080/",
          "height": 373
        },
        "id": "wm1GjDrDV3b-",
        "outputId": "217f1cbe-6c56-415e-affc-e85ebb00c7d1"
      },
      "execution_count": null,
      "outputs": [
        {
          "output_type": "error",
          "ename": "KeyboardInterrupt",
          "evalue": "Interrupted by user",
          "traceback": [
            "\u001b[0;31m---------------------------------------------------------------------------\u001b[0m",
            "\u001b[0;31mKeyboardInterrupt\u001b[0m                         Traceback (most recent call last)",
            "\u001b[0;32m<ipython-input-11-bbc564296680>\u001b[0m in \u001b[0;36m<cell line: 0>\u001b[0;34m()\u001b[0m\n\u001b[1;32m      2\u001b[0m \u001b[0mfilename\u001b[0m \u001b[0;34m=\u001b[0m \u001b[0;34m\"abc.txt\"\u001b[0m\u001b[0;34m\u001b[0m\u001b[0;34m\u001b[0m\u001b[0m\n\u001b[1;32m      3\u001b[0m \u001b[0;32mwith\u001b[0m \u001b[0mopen\u001b[0m\u001b[0;34m(\u001b[0m\u001b[0;34m\"abc.txt\"\u001b[0m\u001b[0;34m,\u001b[0m \u001b[0;34m\"a\"\u001b[0m\u001b[0;34m)\u001b[0m \u001b[0;32mas\u001b[0m \u001b[0mfile\u001b[0m\u001b[0;34m:\u001b[0m\u001b[0;34m\u001b[0m\u001b[0;34m\u001b[0m\u001b[0m\n\u001b[0;32m----> 4\u001b[0;31m     \u001b[0mtp\u001b[0m \u001b[0;34m=\u001b[0m \u001b[0minput\u001b[0m\u001b[0;34m(\u001b[0m\u001b[0;34m\"Enter the text to append: \"\u001b[0m\u001b[0;34m)\u001b[0m\u001b[0;34m\u001b[0m\u001b[0;34m\u001b[0m\u001b[0m\n\u001b[0m\u001b[1;32m      5\u001b[0m     \u001b[0mfile\u001b[0m\u001b[0;34m.\u001b[0m\u001b[0mwrite\u001b[0m\u001b[0;34m(\u001b[0m\u001b[0mtp\u001b[0m \u001b[0;34m+\u001b[0m \u001b[0;34m\"\\n\"\u001b[0m\u001b[0;34m)\u001b[0m\u001b[0;34m\u001b[0m\u001b[0;34m\u001b[0m\u001b[0m\n\u001b[1;32m      6\u001b[0m \u001b[0;32mwith\u001b[0m \u001b[0mopen\u001b[0m\u001b[0;34m(\u001b[0m\u001b[0;34m\"abc.txt\"\u001b[0m\u001b[0;34m,\u001b[0m \u001b[0;34m\"r\"\u001b[0m\u001b[0;34m)\u001b[0m \u001b[0;32mas\u001b[0m \u001b[0mfile\u001b[0m\u001b[0;34m:\u001b[0m\u001b[0;34m\u001b[0m\u001b[0;34m\u001b[0m\u001b[0m\n",
            "\u001b[0;32m/usr/local/lib/python3.11/dist-packages/ipykernel/kernelbase.py\u001b[0m in \u001b[0;36mraw_input\u001b[0;34m(self, prompt)\u001b[0m\n\u001b[1;32m   1175\u001b[0m                 \u001b[0;34m\"raw_input was called, but this frontend does not support input requests.\"\u001b[0m\u001b[0;34m\u001b[0m\u001b[0;34m\u001b[0m\u001b[0m\n\u001b[1;32m   1176\u001b[0m             )\n\u001b[0;32m-> 1177\u001b[0;31m         return self._input_request(\n\u001b[0m\u001b[1;32m   1178\u001b[0m             \u001b[0mstr\u001b[0m\u001b[0;34m(\u001b[0m\u001b[0mprompt\u001b[0m\u001b[0;34m)\u001b[0m\u001b[0;34m,\u001b[0m\u001b[0;34m\u001b[0m\u001b[0;34m\u001b[0m\u001b[0m\n\u001b[1;32m   1179\u001b[0m             \u001b[0mself\u001b[0m\u001b[0;34m.\u001b[0m\u001b[0m_parent_ident\u001b[0m\u001b[0;34m[\u001b[0m\u001b[0;34m\"shell\"\u001b[0m\u001b[0;34m]\u001b[0m\u001b[0;34m,\u001b[0m\u001b[0;34m\u001b[0m\u001b[0;34m\u001b[0m\u001b[0m\n",
            "\u001b[0;32m/usr/local/lib/python3.11/dist-packages/ipykernel/kernelbase.py\u001b[0m in \u001b[0;36m_input_request\u001b[0;34m(self, prompt, ident, parent, password)\u001b[0m\n\u001b[1;32m   1217\u001b[0m             \u001b[0;32mexcept\u001b[0m \u001b[0mKeyboardInterrupt\u001b[0m\u001b[0;34m:\u001b[0m\u001b[0;34m\u001b[0m\u001b[0;34m\u001b[0m\u001b[0m\n\u001b[1;32m   1218\u001b[0m                 \u001b[0;31m# re-raise KeyboardInterrupt, to truncate traceback\u001b[0m\u001b[0;34m\u001b[0m\u001b[0;34m\u001b[0m\u001b[0m\n\u001b[0;32m-> 1219\u001b[0;31m                 \u001b[0;32mraise\u001b[0m \u001b[0mKeyboardInterrupt\u001b[0m\u001b[0;34m(\u001b[0m\u001b[0;34m\"Interrupted by user\"\u001b[0m\u001b[0;34m)\u001b[0m \u001b[0;32mfrom\u001b[0m \u001b[0;32mNone\u001b[0m\u001b[0;34m\u001b[0m\u001b[0;34m\u001b[0m\u001b[0m\n\u001b[0m\u001b[1;32m   1220\u001b[0m             \u001b[0;32mexcept\u001b[0m \u001b[0mException\u001b[0m\u001b[0;34m:\u001b[0m\u001b[0;34m\u001b[0m\u001b[0;34m\u001b[0m\u001b[0m\n\u001b[1;32m   1221\u001b[0m                 \u001b[0mself\u001b[0m\u001b[0;34m.\u001b[0m\u001b[0mlog\u001b[0m\u001b[0;34m.\u001b[0m\u001b[0mwarning\u001b[0m\u001b[0;34m(\u001b[0m\u001b[0;34m\"Invalid Message:\"\u001b[0m\u001b[0;34m,\u001b[0m \u001b[0mexc_info\u001b[0m\u001b[0;34m=\u001b[0m\u001b[0;32mTrue\u001b[0m\u001b[0;34m)\u001b[0m\u001b[0;34m\u001b[0m\u001b[0;34m\u001b[0m\u001b[0m\n",
            "\u001b[0;31mKeyboardInterrupt\u001b[0m: Interrupted by user"
          ]
        }
      ]
    },
    {
      "cell_type": "code",
      "source": [
        "f=open(\"abc.txt\",\"r\")\n",
        "n=int(input(\"enter a no of lines\"))\n",
        "for i in range(n):\n",
        "    s=f.readline()\n",
        "    print(s)"
      ],
      "metadata": {
        "colab": {
          "base_uri": "https://localhost:8080/"
        },
        "id": "ip50u8r7XdVG",
        "outputId": "ecac23b8-3d9e-48d0-e660-cb65473449af"
      },
      "execution_count": null,
      "outputs": [
        {
          "output_type": "stream",
          "name": "stdout",
          "text": [
            "enter a no of lines6\n",
            "abbas\n",
            "\n",
            "sidhpur\n",
            "\n",
            "\n",
            "\n",
            "\n",
            "\n"
          ]
        }
      ]
    },
    {
      "cell_type": "code",
      "source": [
        "#Write a Python program to read last n lines of a file.\n",
        "with open(\"abc.txt\", \"r\") as f:\n",
        "    n = int(input(\"Enter the number of lines to read: \"))\n",
        "\n",
        "    for i in range(n):\n",
        "        line = f.readline()\n",
        "        if not line:\n",
        "            break\n",
        "        print(line.strip())\n"
      ],
      "metadata": {
        "colab": {
          "base_uri": "https://localhost:8080/"
        },
        "id": "Y4hR3WhNZjAh",
        "outputId": "8c62ba7f-61bf-49e6-f368-b956b00a0d2f"
      },
      "execution_count": null,
      "outputs": [
        {
          "output_type": "stream",
          "name": "stdout",
          "text": [
            "Enter the number of lines to read: 2\n",
            "abbas\n",
            "sidhpur\n"
          ]
        }
      ]
    },
    {
      "cell_type": "code",
      "source": [
        "#Write a Python program to read a file line by line and store it into a list\n",
        "def read_file_lines_to_list(file_path):\n",
        "    lines_list = []\n",
        "    try:\n",
        "        with open(\"abc.txt\", 'r') as file:\n",
        "            for line in file:\n",
        "                lines_list.append(line.strip())  # Strip newline characters\n",
        "    except FileNotFoundError:\n",
        "        print(\"The file was not found.\")\n",
        "    except IOError:\n",
        "        print(\"An error occurred while reading the file.\")\n",
        "\n",
        "    return lines_list"
      ],
      "metadata": {
        "id": "2y87009nafaC"
      },
      "execution_count": null,
      "outputs": []
    },
    {
      "cell_type": "code",
      "source": [
        "#)Write a Python program to read a file line by line store it into a variable.\n",
        "with open(\"abc.txt\") as file:\n",
        "    lines = file.readlines()\n",
        "    lines = [line.rstrip() for line in lines]\n",
        "\n",
        "print(lines)"
      ],
      "metadata": {
        "colab": {
          "base_uri": "https://localhost:8080/",
          "height": 211
        },
        "id": "nGzC5FcoiZ1M",
        "outputId": "2f36e7b4-811c-4cab-83be-d09c142d47ff",
        "collapsed": true
      },
      "execution_count": 6,
      "outputs": [
        {
          "output_type": "error",
          "ename": "FileNotFoundError",
          "evalue": "[Errno 2] No such file or directory: 'abc.txt'",
          "traceback": [
            "\u001b[0;31m---------------------------------------------------------------------------\u001b[0m",
            "\u001b[0;31mFileNotFoundError\u001b[0m                         Traceback (most recent call last)",
            "\u001b[0;32m<ipython-input-6-1dc091e190f4>\u001b[0m in \u001b[0;36m<cell line: 0>\u001b[0;34m()\u001b[0m\n\u001b[1;32m      1\u001b[0m \u001b[0;31m#)Write a Python program to read a file line by line store it into a variable.\u001b[0m\u001b[0;34m\u001b[0m\u001b[0;34m\u001b[0m\u001b[0m\n\u001b[0;32m----> 2\u001b[0;31m \u001b[0;32mwith\u001b[0m \u001b[0mopen\u001b[0m\u001b[0;34m(\u001b[0m\u001b[0;34m\"abc.txt\"\u001b[0m\u001b[0;34m)\u001b[0m \u001b[0;32mas\u001b[0m \u001b[0mfile\u001b[0m\u001b[0;34m:\u001b[0m\u001b[0;34m\u001b[0m\u001b[0;34m\u001b[0m\u001b[0m\n\u001b[0m\u001b[1;32m      3\u001b[0m     \u001b[0mlines\u001b[0m \u001b[0;34m=\u001b[0m \u001b[0mfile\u001b[0m\u001b[0;34m.\u001b[0m\u001b[0mreadlines\u001b[0m\u001b[0;34m(\u001b[0m\u001b[0;34m)\u001b[0m\u001b[0;34m\u001b[0m\u001b[0;34m\u001b[0m\u001b[0m\n\u001b[1;32m      4\u001b[0m     \u001b[0mlines\u001b[0m \u001b[0;34m=\u001b[0m \u001b[0;34m[\u001b[0m\u001b[0mline\u001b[0m\u001b[0;34m.\u001b[0m\u001b[0mrstrip\u001b[0m\u001b[0;34m(\u001b[0m\u001b[0;34m)\u001b[0m \u001b[0;32mfor\u001b[0m \u001b[0mline\u001b[0m \u001b[0;32min\u001b[0m \u001b[0mlines\u001b[0m\u001b[0;34m]\u001b[0m\u001b[0;34m\u001b[0m\u001b[0;34m\u001b[0m\u001b[0m\n\u001b[1;32m      5\u001b[0m \u001b[0;34m\u001b[0m\u001b[0m\n",
            "\u001b[0;31mFileNotFoundError\u001b[0m: [Errno 2] No such file or directory: 'abc.txt'"
          ]
        }
      ]
    },
    {
      "cell_type": "code",
      "source": [
        "#Write a python program to find the longest words.\n",
        "str=input(\"enter a string\")\n",
        "s=str.split()\n",
        "print(s)\n",
        "max=0\n",
        "for ele in s:\n",
        "  if len(ele)>max:\n",
        "    max=len(ele)\n",
        "    max_word=ele\n",
        "  print(\"word with maximum length is given string is:\",max_word)"
      ],
      "metadata": {
        "colab": {
          "base_uri": "https://localhost:8080/"
        },
        "id": "yzBZOV5mk81T",
        "outputId": "a5261925-4b64-4a10-ffb9-0dc3ce00914c"
      },
      "execution_count": null,
      "outputs": [
        {
          "output_type": "stream",
          "name": "stdout",
          "text": [
            "enter a stringmy name is haidar\n",
            "['my', 'name', 'is', 'haidar']\n",
            "word with maximum length is given string is: my\n",
            "word with maximum length is given string is: name\n",
            "word with maximum length is given string is: name\n",
            "word with maximum length is given string is: haidar\n"
          ]
        }
      ]
    },
    {
      "cell_type": "code",
      "source": [
        "#Write a Python program to count the number of lines in a text file.\n",
        "def count_lines(filename):\n",
        "    try:\n",
        "        with open(\"haidar1.txt\", 'r', encoding='utf-8') as file:\n",
        "            return sum(1 for line in file)\n",
        "    except FileNotFoundError:\n",
        "        print(\"Error: File not found.\")\n",
        "        return None\n",
        "    except Exception as e:\n",
        "        print(f\"An error occurred: {e}\")\n",
        "        return None\n",
        "\n"
      ],
      "metadata": {
        "id": "Ukt4m45_nWAF"
      },
      "execution_count": null,
      "outputs": []
    },
    {
      "cell_type": "code",
      "source": [
        "#)Write a Python program to count the frequency of words in a file.\n",
        "fd = open(\"haidar1.txt\", \"r\")\n",
        "data = fd.read()\n",
        "fd.close()\n",
        "\n",
        "special_char = \",.?!\"\n",
        "for schar in special_char:\n",
        "    if schar in data:\n",
        "        data = data.replace(schar, \"\")\n",
        "\n",
        "word_list = data.split()\n",
        "word_count = {}\n",
        "for word in word_list:\n",
        "    if word in word_count:\n",
        "        word_count[word] += 1\n",
        "    else:\n",
        "        word_count[word] = 1\n",
        "\n",
        "for key, value in word_count.items():\n",
        "    print(f\"{key} occurs : {value}\")\n"
      ],
      "metadata": {
        "colab": {
          "base_uri": "https://localhost:8080/",
          "height": 211
        },
        "id": "LpICER10tn-U",
        "outputId": "d8bb9be2-f95e-4daf-c741-0781fed04a15"
      },
      "execution_count": null,
      "outputs": [
        {
          "output_type": "error",
          "ename": "FileNotFoundError",
          "evalue": "[Errno 2] No such file or directory: 'haidar1.txt'",
          "traceback": [
            "\u001b[0;31m---------------------------------------------------------------------------\u001b[0m",
            "\u001b[0;31mFileNotFoundError\u001b[0m                         Traceback (most recent call last)",
            "\u001b[0;32m<ipython-input-14-cd42cdd6f288>\u001b[0m in \u001b[0;36m<cell line: 0>\u001b[0;34m()\u001b[0m\n\u001b[1;32m      1\u001b[0m \u001b[0;31m#)Write a Python program to count the frequency of words in a file.\u001b[0m\u001b[0;34m\u001b[0m\u001b[0;34m\u001b[0m\u001b[0m\n\u001b[0;32m----> 2\u001b[0;31m \u001b[0mfd\u001b[0m \u001b[0;34m=\u001b[0m \u001b[0mopen\u001b[0m\u001b[0;34m(\u001b[0m\u001b[0;34m\"haidar1.txt\"\u001b[0m\u001b[0;34m,\u001b[0m \u001b[0;34m\"r\"\u001b[0m\u001b[0;34m)\u001b[0m\u001b[0;34m\u001b[0m\u001b[0;34m\u001b[0m\u001b[0m\n\u001b[0m\u001b[1;32m      3\u001b[0m \u001b[0mdata\u001b[0m \u001b[0;34m=\u001b[0m \u001b[0mfd\u001b[0m\u001b[0;34m.\u001b[0m\u001b[0mread\u001b[0m\u001b[0;34m(\u001b[0m\u001b[0;34m)\u001b[0m\u001b[0;34m\u001b[0m\u001b[0;34m\u001b[0m\u001b[0m\n\u001b[1;32m      4\u001b[0m \u001b[0mfd\u001b[0m\u001b[0;34m.\u001b[0m\u001b[0mclose\u001b[0m\u001b[0;34m(\u001b[0m\u001b[0;34m)\u001b[0m\u001b[0;34m\u001b[0m\u001b[0;34m\u001b[0m\u001b[0m\n\u001b[1;32m      5\u001b[0m \u001b[0;34m\u001b[0m\u001b[0m\n",
            "\u001b[0;31mFileNotFoundError\u001b[0m: [Errno 2] No such file or directory: 'haidar1.txt'"
          ]
        }
      ]
    },
    {
      "cell_type": "code",
      "source": [
        "#Write python program that user to enter only odd numbers, else\n",
        "#will raise an exception.\n",
        "class EvenNumberError(Exception):\n",
        "    \"\"\"Custom exception for even numbers.\"\"\"\n",
        "    pass\n",
        "\n",
        "def get_odd_number():\n",
        "    try:\n",
        "        num = int(input(\"Enter an odd number: \"))\n",
        "        if num % 2 == 0:\n",
        "            raise EvenNumberError(\"You entered an even number! Please enter only odd numbers.\")\n",
        "        print(f\"Valid input: {num}\")\n",
        "    except EvenNumberError as e:\n",
        "        print(f\"Error: {e}\")\n",
        "    except ValueError:\n",
        "        print(\"Error: Invalid input! Please enter an integer.\")\n",
        "\n",
        "get_odd_number()\n"
      ],
      "metadata": {
        "colab": {
          "base_uri": "https://localhost:8080/"
        },
        "id": "J2fUPfKou-RW",
        "outputId": "617c845e-eb4d-4436-d642-182256c14a22"
      },
      "execution_count": null,
      "outputs": [
        {
          "output_type": "stream",
          "name": "stdout",
          "text": [
            "Enter an odd number: 34\n",
            "Error: You entered an even number! Please enter only odd numbers.\n"
          ]
        }
      ]
    }
  ]
}